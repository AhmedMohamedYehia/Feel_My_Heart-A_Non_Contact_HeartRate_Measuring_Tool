{
 "cells": [
  {
   "cell_type": "markdown",
   "metadata": {},
   "source": [
    "# HR estimation "
   ]
  },
  {
   "cell_type": "code",
   "execution_count": 1,
   "metadata": {},
   "outputs": [],
   "source": [
    "import matplotlib.pyplot as plt\n",
    "import numpy as np\n",
    "import math\n",
    "import xml.etree.ElementTree as ET"
   ]
  },
  {
   "cell_type": "code",
   "execution_count": 2,
   "metadata": {},
   "outputs": [],
   "source": [
    "def padding(x):\n",
    "    n = len(x)\n",
    "    power = math.ceil(math.log(n,2))+5\n",
    "    padding=(2**power) - n\n",
    "    padded = np.pad(x, (0, padding), 'constant')\n",
    "    return padded\n",
    "\n",
    "\n",
    "\n",
    "def FFT(x):\n",
    "    N = len(x)\n",
    "    if N == 1:\n",
    "        return x\n",
    "    else:\n",
    "        X_even = FFT(x[::2])\n",
    "        X_odd = FFT(x[1::2])\n",
    "        factor = \\\n",
    "          np.exp(-2j*np.pi*np.arange(N)/ N)\n",
    "        \n",
    "        X = np.concatenate(\\\n",
    "            [X_even+factor[:int(N/2)]*X_odd,\n",
    "             X_even+factor[int(N/2):]*X_odd])\n",
    "        return X\n",
    "    \n",
    "# def FFT(f):\n",
    "#     N = len(f)\n",
    "#     if N <= 1:\n",
    "#         return f\n",
    "    \n",
    "#     even= FFT(f[0::2])\n",
    "#     odd = FFT(f[1::2])\n",
    "\n",
    "#     x = np.zeros(N).astype(np.complex64)\n",
    "    \n",
    "#     # only required to compute for half the frequencies \n",
    "#     # since u+N/2 can be obtained from the symmetry property\n",
    "#     for u in range(N//2):\n",
    "#         x[u] = even[u] + np.exp(-2j*np.pi*u/N) * odd[u] # conquer\n",
    "#         x[u+N//2] = even[u] - np.exp(-2j*np.pi*u/N)*odd[u]  # conquer\n",
    "                \n",
    "#     return temp    \n",
    "    \n"
   ]
  },
  {
   "cell_type": "code",
   "execution_count": 3,
   "metadata": {},
   "outputs": [],
   "source": [
    "def estimate_HR(x):\n",
    "    newx = padding(x)\n",
    "    X=FFT(newx)\n",
    "    # calculqate the frequency\n",
    "    N = len(X)\n",
    "    n = np.arange(0,N)\n",
    "    freq = len(x)/N * n\n",
    "#     freq =  (1/(ts*len(X)))* n\n",
    "    # Get the one-sided specturm\n",
    "    n_oneside = N//2\n",
    "    # get the one side frequency\n",
    "    f_oneside = freq[:n_oneside]\n",
    "    # normalize the amplitude\n",
    "    X_oneside =X[:n_oneside]/n_oneside\n",
    "    amp = abs(X_oneside)\n",
    "    peak = f_oneside[np.argmax(amp)]\n",
    "    print(peak)\n",
    "    estimateHR = peak * 60\n",
    "    return estimateHR"
   ]
  },
  {
   "cell_type": "code",
   "execution_count": 4,
   "metadata": {},
   "outputs": [
    {
     "data": {
      "image/png": "[encoded data removed]",
      "text/plain": [
       "<Figure size 576x432 with 1 Axes>"
      ]
     },
     "metadata": {
      "needs_background": "light"
     },
     "output_type": "display_data"
    }
   ],
   "source": [
    "# sampling rate\n",
    "sr = 1000\n",
    "# sampling interval\n",
    "ts = 1.0/sr\n",
    "t = np.arange(0,1,ts)\n",
    "\n",
    "freq = 1.23\n",
    "x = 3*np.sin(2*np.pi*freq*t)\n",
    "\n",
    "freq = 3\n",
    "x += np.cos(2*np.pi*freq*t)\n",
    "\n",
    "freq = 7  \n",
    "x += np.sin(2*np.pi*freq*t)\n",
    "\n",
    "plt.figure(figsize = (8, 6))\n",
    "plt.plot(t, x, 'r')\n",
    "plt.ylabel('Amplitude')\n",
    "\n",
    "plt.show()\n"
   ]
  },
  {
   "cell_type": "code",
   "execution_count": 6,
   "metadata": {},
   "outputs": [
    {
     "name": "stdout",
     "output_type": "stream",
     "text": [
      "1.190185546875\n",
      "71.4111328125\n"
     ]
    }
   ],
   "source": [
    "HR = estimate_HR(x)\n",
    "print(HR)"
   ]
  },
  {
   "cell_type": "markdown",
   "metadata": {},
   "source": [
    "# Linear regression"
   ]
  },
  {
   "cell_type": "code",
   "execution_count": 27,
   "metadata": {},
   "outputs": [],
   "source": [
    "def get_coefficients(x,y):\n",
    "    \n",
    "    mX = sum(x)/len(x)\n",
    "    mY = sum(y)/len(y)\n",
    "    covXY = sum((x-mX)*(y-mY))\n",
    "    varX = sum(((x-mX)**2))\n",
    "    \n",
    "    b1 = covXY/varX\n",
    "    b0 = mY-b1*mX\n",
    "    \n",
    "    return b0,b1"
   ]
  },
  {
   "cell_type": "code",
   "execution_count": 28,
   "metadata": {},
   "outputs": [],
   "source": [
    "# data\n",
    "root = ET.parse(\"D:/dataset/angelo/angelo_gym/cms50_stream_handler.xml\").getroot()\n",
    "y = []\n",
    "for child in root:\n",
    "    rank = child.find('value1').text\n",
    "    y.append(int(rank))\n",
    "    \n",
    "root = ET.parse(\"D:/dataset/angelo/angelo_resting/cms50_stream_handler.xml\").getroot()\n",
    "for child in root:\n",
    "    rank = child.find('value1').text\n",
    "    y.append(int(rank))\n",
    "    \n",
    "root = ET.parse(\"D:/dataset/angelo/angelo_rotation/cms50_stream_handler.xml\").getroot()\n",
    "for child in root:\n",
    "    rank = child.find('value1').text\n",
    "    y.append(int(rank))\n",
    "    \n",
    "root = ET.parse(\"D:/dataset/angelo/angelo_talk/cms50_stream_handler.xml\").getroot()\n",
    "for child in root:\n",
    "    rank = child.find('value1').text\n",
    "    y.append(int(rank))     \n",
    " \n",
    "    \n",
    "y = np.asarray(y)\n",
    "mu, sigma = 0, 2 \n",
    "# creating a noise with the same dimension as the dataset (2,2) \n",
    "noise = np.random.normal(mu, sigma, len(y)) \n",
    "x = noise + y"
   ]
  },
  {
   "cell_type": "code",
   "execution_count": 29,
   "metadata": {},
   "outputs": [
    {
     "data": {
      "image/png": "[encoded data removed]",
      "text/plain": [
       "<Figure size 432x288 with 1 Axes>"
      ]
     },
     "metadata": {
      "needs_background": "light"
     },
     "output_type": "display_data"
    }
   ],
   "source": [
    "# estimating coefficients\n",
    "b = get_coefficients(x, y)\n",
    "plt.scatter(x, y, color = \"b\",\n",
    "       marker = \"o\", s = 30)\n",
    "\n",
    "# predicted response vector\n",
    "y_pred = b[0] + b[1]*x\n",
    "\n",
    "# plotting the regression line\n",
    "plt.plot(x, y_pred, color = \"g\")\n",
    "\n",
    "# putting labels\n",
    "plt.xlabel('x')\n",
    "plt.ylabel('y')\n",
    "\n",
    "# function to show plot\n",
    "plt.show()"
   ]
  },
  {
   "cell_type": "markdown",
   "metadata": {},
   "source": [
    "# HR after regression"
   ]
  },
  {
   "cell_type": "code",
   "execution_count": 30,
   "metadata": {},
   "outputs": [
    {
     "name": "stdout",
     "output_type": "stream",
     "text": [
      "(0.48350481888860486, 0.9946020160629372)\n",
      "71.4111328125 71.50916148353927\n"
     ]
    }
   ],
   "source": [
    "print(b)\n",
    "finalHR = b[0] + b[1]*HR\n",
    "print(HR,finalHR)"
   ]
  },
  {
   "cell_type": "code",
   "execution_count": 34,
   "metadata": {},
   "outputs": [
    {
     "data": {
      "text/plain": [
       "True"
      ]
     },
     "execution_count": 34,
     "metadata": {},
     "output_type": "execute_result"
    }
   ],
   "source": [
    "k = np.random.random(1024)\n",
    "np.allclose(FFT(k), )"
   ]
  },
  {
   "cell_type": "code",
   "execution_count": null,
   "metadata": {},
   "outputs": [],
   "source": []
  }
 ],
 "metadata": {
  "kernelspec": {
   "display_name": "Python 3",
   "language": "python",
   "name": "python3"
  },
  "language_info": {
   "codemirror_mode": {
    "name": "ipython",
    "version": 3
   },
   "file_extension": ".py",
   "mimetype": "text/x-python",
   "name": "python",
   "nbconvert_exporter": "python",
   "pygments_lexer": "ipython3",
   "version": "3.8.3"
  }
 },
 "nbformat": 4,
 "nbformat_minor": 4
}
